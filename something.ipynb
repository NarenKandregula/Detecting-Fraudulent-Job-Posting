{
 "cells": [
  {
   "cell_type": "code",
   "execution_count": 2,
   "metadata": {},
   "outputs": [
    {
     "name": "stdout",
     "output_type": "stream",
     "text": [
      "{'Logistic Regression': 'False', 'Naive Bayes': 'True', 'Random Forest': 'False'}\n"
     ]
    }
   ],
   "source": [
    "from flask import jsonify  # Correct import from Flask\n",
    "\n",
    "# Dummy predictions for demonstration\n",
    "prediction_lr = [0]  # Logistic Regression predicts '0' (i.e., false)\n",
    "prediction_nb = [1]  # Naive Bayes predicts '1' (i.e., true)\n",
    "prediction_rf = [0]  # Random Forest predicts '0' (i.e., false)\n",
    "\n",
    "def predict():\n",
    "    result = {\n",
    "        'Logistic Regression': str(bool(prediction_lr[0])),\n",
    "        'Naive Bayes': str(bool(prediction_nb[0])),\n",
    "        'Random Forest': str(bool(prediction_rf[0]))\n",
    "    }\n",
    "    return jsonify(result)\n",
    "\n",
    "# This function call will not work as expected outside of a Flask application context\n",
    "# print(predict())  # This will raise a RuntimeError: Working outside of application context.\n",
    "\n",
    "# To test this function without running a Flask server, you can wrap it in a Flask app context:\n",
    "if __name__ == \"__main__\":\n",
    "    from flask import Flask\n",
    "    app = Flask(__name__)\n",
    "\n",
    "    with app.app_context():\n",
    "        print(predict().get_json())  # This should now work as expected\n"
   ]
  },
  {
   "cell_type": "code",
   "execution_count": null,
   "metadata": {},
   "outputs": [],
   "source": []
  }
 ],
 "metadata": {
  "kernelspec": {
   "display_name": "naren_flask",
   "language": "python",
   "name": "python3"
  },
  "language_info": {
   "codemirror_mode": {
    "name": "ipython",
    "version": 3
   },
   "file_extension": ".py",
   "mimetype": "text/x-python",
   "name": "python",
   "nbconvert_exporter": "python",
   "pygments_lexer": "ipython3",
   "version": "3.9.20"
  }
 },
 "nbformat": 4,
 "nbformat_minor": 2
}
