{
 "cells": [
  {
   "cell_type": "code",
   "execution_count": 1,
   "metadata": {},
   "outputs": [],
   "source": [
    "# pip install pandas numpy statsmodels matplotlib seaborn wordcloud beautifulsoup4 nltk scikit-learn imbalanced-learn openpyxl folium"
   ]
  },
  {
   "cell_type": "markdown",
   "metadata": {
    "id": "XlUAOVjF8Wj7"
   },
   "source": [
    "# Importing Necessary libraries"
   ]
  },
  {
   "cell_type": "code",
   "execution_count": 2,
   "metadata": {
    "colab": {
     "base_uri": "https://localhost:8080/"
    },
    "id": "7QzjkIg3iOap",
    "outputId": "73fe7cfb-4a8c-4e59-dd7a-afc8648d16fa"
   },
   "outputs": [
    {
     "name": "stderr",
     "output_type": "stream",
     "text": [
      "[nltk_data] Downloading package stopwords to\n",
      "[nltk_data]     C:\\Users\\knssn\\AppData\\Roaming\\nltk_data...\n",
      "[nltk_data]   Package stopwords is already up-to-date!\n",
      "[nltk_data] Downloading package punkt_tab to\n",
      "[nltk_data]     C:\\Users\\knssn\\AppData\\Roaming\\nltk_data...\n",
      "[nltk_data]   Package punkt_tab is already up-to-date!\n",
      "[nltk_data] Downloading package wordnet to\n",
      "[nltk_data]     C:\\Users\\knssn\\AppData\\Roaming\\nltk_data...\n",
      "[nltk_data]   Package wordnet is already up-to-date!\n"
     ]
    }
   ],
   "source": [
    "import pandas as pd\n",
    "import numpy as np\n",
    "import re\n",
    "\n",
    "from statsmodels.stats.proportion import proportions_ztest\n",
    "\n",
    "import matplotlib.pyplot as plt\n",
    "import seaborn as sns\n",
    "from wordcloud import WordCloud\n",
    "from bs4 import BeautifulSoup\n",
    "import matplotlib.gridspec as gridspec\n",
    "import folium\n",
    "\n",
    "import nltk\n",
    "from nltk.corpus import stopwords\n",
    "from nltk.tokenize import word_tokenize\n",
    "from nltk.stem import WordNetLemmatizer\n",
    "\n",
    "# Download NLTK data (stopwords, punkt, wordnet)\n",
    "nltk.download('stopwords')\n",
    "nltk.download('punkt_tab')\n",
    "nltk.download('wordnet')\n",
    "\n",
    "from sklearn.preprocessing import LabelEncoder\n",
    "\n",
    "from imblearn.over_sampling import SMOTE\n",
    "from imblearn.under_sampling import TomekLinks\n",
    "from imblearn.pipeline import Pipeline\n",
    "\n",
    "from sklearn.preprocessing import StandardScaler, FunctionTransformer\n",
    "from sklearn.feature_extraction.text import TfidfVectorizer\n",
    "from sklearn.compose import ColumnTransformer\n",
    "from sklearn.pipeline import Pipeline\n",
    "from imblearn.pipeline import Pipeline as ImbPipeline\n",
    "from sklearn.impute import SimpleImputer\n",
    "\n",
    "from sklearn.metrics import (\n",
    "    classification_report,\n",
    "    roc_auc_score,\n",
    "    roc_curve,\n",
    "    precision_recall_curve,\n",
    ")\n",
    "from sklearn.model_selection import train_test_split\n",
    "from sklearn.model_selection import learning_curve\n",
    "\n",
    "from sklearn.linear_model import LogisticRegression\n",
    "from sklearn.ensemble import RandomForestClassifier\n",
    "from sklearn.neighbors import KNeighborsClassifier\n",
    "from sklearn.neural_network import MLPClassifier\n",
    "from sklearn.svm import SVC\n",
    "from sklearn.naive_bayes import GaussianNB"
   ]
  },
  {
   "cell_type": "markdown",
   "metadata": {},
   "source": [
    "# Loading Data"
   ]
  },
  {
   "cell_type": "code",
   "execution_count": 7,
   "metadata": {
    "colab": {
     "base_uri": "https://localhost:8080/",
     "height": 384
    },
    "id": "a3eptljwiGGW",
    "outputId": "fd09d7fd-20de-4d76-ebf4-27fcc29bc00c"
   },
   "outputs": [
    {
     "data": {
      "text/html": [
       "<div>\n",
       "<style scoped>\n",
       "    .dataframe tbody tr th:only-of-type {\n",
       "        vertical-align: middle;\n",
       "    }\n",
       "\n",
       "    .dataframe tbody tr th {\n",
       "        vertical-align: top;\n",
       "    }\n",
       "\n",
       "    .dataframe thead th {\n",
       "        text-align: right;\n",
       "    }\n",
       "</style>\n",
       "<table border=\"1\" class=\"dataframe\">\n",
       "  <thead>\n",
       "    <tr style=\"text-align: right;\">\n",
       "      <th></th>\n",
       "      <th>job_id</th>\n",
       "      <th>title</th>\n",
       "      <th>location</th>\n",
       "      <th>department</th>\n",
       "      <th>salary_range</th>\n",
       "      <th>company_profile</th>\n",
       "      <th>description</th>\n",
       "      <th>requirements</th>\n",
       "      <th>benefits</th>\n",
       "      <th>telecommuting</th>\n",
       "      <th>has_company_logo</th>\n",
       "      <th>has_questions</th>\n",
       "      <th>employment_type</th>\n",
       "      <th>required_experience</th>\n",
       "      <th>required_education</th>\n",
       "      <th>industry</th>\n",
       "      <th>function</th>\n",
       "      <th>fraudulent</th>\n",
       "    </tr>\n",
       "  </thead>\n",
       "  <tbody>\n",
       "    <tr>\n",
       "      <th>0</th>\n",
       "      <td>1</td>\n",
       "      <td>Marketing Intern</td>\n",
       "      <td>US, NY, New York</td>\n",
       "      <td>Marketing</td>\n",
       "      <td>NaN</td>\n",
       "      <td>We're Food52, and we've created a groundbreaki...</td>\n",
       "      <td>Food52, a fast-growing, James Beard Award-winn...</td>\n",
       "      <td>Experience with content management systems a m...</td>\n",
       "      <td>NaN</td>\n",
       "      <td>0</td>\n",
       "      <td>1</td>\n",
       "      <td>0</td>\n",
       "      <td>Other</td>\n",
       "      <td>Internship</td>\n",
       "      <td>NaN</td>\n",
       "      <td>NaN</td>\n",
       "      <td>Marketing</td>\n",
       "      <td>0</td>\n",
       "    </tr>\n",
       "    <tr>\n",
       "      <th>1</th>\n",
       "      <td>2</td>\n",
       "      <td>Customer Service - Cloud Video Production</td>\n",
       "      <td>NZ, , Auckland</td>\n",
       "      <td>Success</td>\n",
       "      <td>NaN</td>\n",
       "      <td>90 Seconds, the worlds Cloud Video Production ...</td>\n",
       "      <td>Organised - Focused - Vibrant - Awesome!Do you...</td>\n",
       "      <td>What we expect from you:Your key responsibilit...</td>\n",
       "      <td>What you will get from usThrough being part of...</td>\n",
       "      <td>0</td>\n",
       "      <td>1</td>\n",
       "      <td>0</td>\n",
       "      <td>Full-time</td>\n",
       "      <td>Not Applicable</td>\n",
       "      <td>NaN</td>\n",
       "      <td>Marketing and Advertising</td>\n",
       "      <td>Customer Service</td>\n",
       "      <td>0</td>\n",
       "    </tr>\n",
       "    <tr>\n",
       "      <th>2</th>\n",
       "      <td>3</td>\n",
       "      <td>Commissioning Machinery Assistant (CMA)</td>\n",
       "      <td>US, IA, Wever</td>\n",
       "      <td>NaN</td>\n",
       "      <td>NaN</td>\n",
       "      <td>Valor Services provides Workforce Solutions th...</td>\n",
       "      <td>Our client, located in Houston, is actively se...</td>\n",
       "      <td>Implement pre-commissioning and commissioning ...</td>\n",
       "      <td>NaN</td>\n",
       "      <td>0</td>\n",
       "      <td>1</td>\n",
       "      <td>0</td>\n",
       "      <td>NaN</td>\n",
       "      <td>NaN</td>\n",
       "      <td>NaN</td>\n",
       "      <td>NaN</td>\n",
       "      <td>NaN</td>\n",
       "      <td>0</td>\n",
       "    </tr>\n",
       "    <tr>\n",
       "      <th>3</th>\n",
       "      <td>4</td>\n",
       "      <td>Account Executive - Washington DC</td>\n",
       "      <td>US, DC, Washington</td>\n",
       "      <td>Sales</td>\n",
       "      <td>NaN</td>\n",
       "      <td>Our passion for improving quality of life thro...</td>\n",
       "      <td>THE COMPANY: ESRI – Environmental Systems Rese...</td>\n",
       "      <td>EDUCATION: Bachelor’s or Master’s in GIS, busi...</td>\n",
       "      <td>Our culture is anything but corporate—we have ...</td>\n",
       "      <td>0</td>\n",
       "      <td>1</td>\n",
       "      <td>0</td>\n",
       "      <td>Full-time</td>\n",
       "      <td>Mid-Senior level</td>\n",
       "      <td>Bachelor's Degree</td>\n",
       "      <td>Computer Software</td>\n",
       "      <td>Sales</td>\n",
       "      <td>0</td>\n",
       "    </tr>\n",
       "    <tr>\n",
       "      <th>4</th>\n",
       "      <td>5</td>\n",
       "      <td>Bill Review Manager</td>\n",
       "      <td>US, FL, Fort Worth</td>\n",
       "      <td>NaN</td>\n",
       "      <td>NaN</td>\n",
       "      <td>SpotSource Solutions LLC is a Global Human Cap...</td>\n",
       "      <td>JOB TITLE: Itemization Review ManagerLOCATION:...</td>\n",
       "      <td>QUALIFICATIONS:RN license in the State of Texa...</td>\n",
       "      <td>Full Benefits Offered</td>\n",
       "      <td>0</td>\n",
       "      <td>1</td>\n",
       "      <td>1</td>\n",
       "      <td>Full-time</td>\n",
       "      <td>Mid-Senior level</td>\n",
       "      <td>Bachelor's Degree</td>\n",
       "      <td>Hospital &amp; Health Care</td>\n",
       "      <td>Health Care Provider</td>\n",
       "      <td>0</td>\n",
       "    </tr>\n",
       "  </tbody>\n",
       "</table>\n",
       "</div>"
      ],
      "text/plain": [
       "   job_id                                      title            location  \\\n",
       "0       1                           Marketing Intern    US, NY, New York   \n",
       "1       2  Customer Service - Cloud Video Production      NZ, , Auckland   \n",
       "2       3    Commissioning Machinery Assistant (CMA)       US, IA, Wever   \n",
       "3       4          Account Executive - Washington DC  US, DC, Washington   \n",
       "4       5                        Bill Review Manager  US, FL, Fort Worth   \n",
       "\n",
       "  department salary_range                                    company_profile  \\\n",
       "0  Marketing          NaN  We're Food52, and we've created a groundbreaki...   \n",
       "1    Success          NaN  90 Seconds, the worlds Cloud Video Production ...   \n",
       "2        NaN          NaN  Valor Services provides Workforce Solutions th...   \n",
       "3      Sales          NaN  Our passion for improving quality of life thro...   \n",
       "4        NaN          NaN  SpotSource Solutions LLC is a Global Human Cap...   \n",
       "\n",
       "                                         description  \\\n",
       "0  Food52, a fast-growing, James Beard Award-winn...   \n",
       "1  Organised - Focused - Vibrant - Awesome!Do you...   \n",
       "2  Our client, located in Houston, is actively se...   \n",
       "3  THE COMPANY: ESRI – Environmental Systems Rese...   \n",
       "4  JOB TITLE: Itemization Review ManagerLOCATION:...   \n",
       "\n",
       "                                        requirements  \\\n",
       "0  Experience with content management systems a m...   \n",
       "1  What we expect from you:Your key responsibilit...   \n",
       "2  Implement pre-commissioning and commissioning ...   \n",
       "3  EDUCATION: Bachelor’s or Master’s in GIS, busi...   \n",
       "4  QUALIFICATIONS:RN license in the State of Texa...   \n",
       "\n",
       "                                            benefits  telecommuting  \\\n",
       "0                                                NaN              0   \n",
       "1  What you will get from usThrough being part of...              0   \n",
       "2                                                NaN              0   \n",
       "3  Our culture is anything but corporate—we have ...              0   \n",
       "4                              Full Benefits Offered              0   \n",
       "\n",
       "   has_company_logo  has_questions employment_type required_experience  \\\n",
       "0                 1              0           Other          Internship   \n",
       "1                 1              0       Full-time      Not Applicable   \n",
       "2                 1              0             NaN                 NaN   \n",
       "3                 1              0       Full-time    Mid-Senior level   \n",
       "4                 1              1       Full-time    Mid-Senior level   \n",
       "\n",
       "  required_education                   industry              function  \\\n",
       "0                NaN                        NaN             Marketing   \n",
       "1                NaN  Marketing and Advertising      Customer Service   \n",
       "2                NaN                        NaN                   NaN   \n",
       "3  Bachelor's Degree          Computer Software                 Sales   \n",
       "4  Bachelor's Degree     Hospital & Health Care  Health Care Provider   \n",
       "\n",
       "   fraudulent  \n",
       "0           0  \n",
       "1           0  \n",
       "2           0  \n",
       "3           0  \n",
       "4           0  "
      ]
     },
     "execution_count": 7,
     "metadata": {},
     "output_type": "execute_result"
    }
   ],
   "source": [
    "# Specify the local file path\n",
    "file_path = r'D:\\Naren\\Capstone\\fake_job_postings.csv'\n",
    "\n",
    "# Load the dataset\n",
    "df = pd.read_csv(file_path)\n",
    "\n",
    "# Display the first few rows\n",
    "df.head()"
   ]
  },
  {
   "cell_type": "markdown",
   "metadata": {},
   "source": [
    "## Text Cleaning and Preprocessing Function"
   ]
  },
  {
   "cell_type": "code",
   "execution_count": 8,
   "metadata": {},
   "outputs": [],
   "source": [
    "# Initialize lemmatizer and stopwords\n",
    "lemmatizer = WordNetLemmatizer()\n",
    "stop_words = set(stopwords.words('english'))\n",
    "\n",
    "# Cleaning function\n",
    "def clean_text(text):\n",
    "    # 1. Remove HTML tags\n",
    "    text = BeautifulSoup(text, \"html.parser\").get_text()\n",
    "\n",
    "    # 2. Remove URLs\n",
    "    text = re.sub(r'http\\S+|www\\S+|https\\S+', '', text, flags=re.MULTILINE)\n",
    "\n",
    "    # 3. Remove 'url_' patterns (followed by any combination of letters and digits)\n",
    "    text = re.sub(r'\\burl_\\w+\\b', '', text)\n",
    "\n",
    "    # 4. Remove punctuations\n",
    "    text = re.sub(r'[^\\w\\s]', '', text)\n",
    "\n",
    "    # 5. Remove numerical values\n",
    "    text = re.sub(r'\\d+', '', text)\n",
    "\n",
    "    # 6. Convert to lowercase (case normalization)\n",
    "    text = text.lower()\n",
    "\n",
    "    # 7. Tokenize the text\n",
    "    tokens = word_tokenize(text)\n",
    "\n",
    "    # 8. Remove stop words and lemmatize\n",
    "    cleaned_tokens = [lemmatizer.lemmatize(word) for word in tokens if word not in stop_words and not word.startswith(\"url_\")]\n",
    "\n",
    "    # Return cleaned text as string\n",
    "    return ' '.join(cleaned_tokens)"
   ]
  },
  {
   "cell_type": "code",
   "execution_count": 10,
   "metadata": {},
   "outputs": [],
   "source": [
    "#filling na with empty space\n",
    "df.fillna(' ', inplace=True)"
   ]
  },
  {
   "cell_type": "markdown",
   "metadata": {
    "id": "QtZ8sXMLE23K"
   },
   "source": [
    "# Machine Learning"
   ]
  },
  {
   "cell_type": "markdown",
   "metadata": {},
   "source": [
    "## Cleaning Categorical Columns for Machine Learning"
   ]
  },
  {
   "cell_type": "code",
   "execution_count": 11,
   "metadata": {
    "colab": {
     "base_uri": "https://localhost:8080/",
     "height": 592
    },
    "id": "TPiQVwMbpFTL",
    "outputId": "869f4bba-b59b-42fd-c051-cb8424af0ed0"
   },
   "outputs": [
    {
     "name": "stderr",
     "output_type": "stream",
     "text": [
      "C:\\Users\\knssn\\AppData\\Local\\Temp\\ipykernel_17196\\2363770212.py:8: MarkupResemblesLocatorWarning: The input looks more like a filename than markup. You may want to open this file and pass the filehandle into Beautiful Soup.\n",
      "  text = BeautifulSoup(text, \"html.parser\").get_text()\n"
     ]
    },
    {
     "data": {
      "text/html": [
       "<div>\n",
       "<style scoped>\n",
       "    .dataframe tbody tr th:only-of-type {\n",
       "        vertical-align: middle;\n",
       "    }\n",
       "\n",
       "    .dataframe tbody tr th {\n",
       "        vertical-align: top;\n",
       "    }\n",
       "\n",
       "    .dataframe thead th {\n",
       "        text-align: right;\n",
       "    }\n",
       "</style>\n",
       "<table border=\"1\" class=\"dataframe\">\n",
       "  <thead>\n",
       "    <tr style=\"text-align: right;\">\n",
       "      <th></th>\n",
       "      <th>job_id</th>\n",
       "      <th>title</th>\n",
       "      <th>location</th>\n",
       "      <th>department</th>\n",
       "      <th>salary_range</th>\n",
       "      <th>company_profile</th>\n",
       "      <th>description</th>\n",
       "      <th>requirements</th>\n",
       "      <th>benefits</th>\n",
       "      <th>telecommuting</th>\n",
       "      <th>has_company_logo</th>\n",
       "      <th>has_questions</th>\n",
       "      <th>employment_type</th>\n",
       "      <th>required_experience</th>\n",
       "      <th>required_education</th>\n",
       "      <th>industry</th>\n",
       "      <th>function</th>\n",
       "      <th>fraudulent</th>\n",
       "    </tr>\n",
       "  </thead>\n",
       "  <tbody>\n",
       "    <tr>\n",
       "      <th>0</th>\n",
       "      <td>1</td>\n",
       "      <td>marketing intern</td>\n",
       "      <td>u ny new york</td>\n",
       "      <td>marketing</td>\n",
       "      <td></td>\n",
       "      <td>food weve created groundbreaking awardwinning ...</td>\n",
       "      <td>food fastgrowing james beard awardwinning onli...</td>\n",
       "      <td>experience content management system major plu...</td>\n",
       "      <td></td>\n",
       "      <td>0</td>\n",
       "      <td>1</td>\n",
       "      <td>0</td>\n",
       "      <td></td>\n",
       "      <td>internship</td>\n",
       "      <td></td>\n",
       "      <td></td>\n",
       "      <td>marketing</td>\n",
       "      <td>0</td>\n",
       "    </tr>\n",
       "    <tr>\n",
       "      <th>1</th>\n",
       "      <td>2</td>\n",
       "      <td>customer service cloud video production</td>\n",
       "      <td>nz auckland</td>\n",
       "      <td>success</td>\n",
       "      <td></td>\n",
       "      <td>second world cloud video production service se...</td>\n",
       "      <td>organised focused vibrant awesomedo passion cu...</td>\n",
       "      <td>expect youyour key responsibility communicate ...</td>\n",
       "      <td>get usthrough part second team gainexperience ...</td>\n",
       "      <td>0</td>\n",
       "      <td>1</td>\n",
       "      <td>0</td>\n",
       "      <td>fulltime</td>\n",
       "      <td>applicable</td>\n",
       "      <td></td>\n",
       "      <td>marketing advertising</td>\n",
       "      <td>customer service</td>\n",
       "      <td>0</td>\n",
       "    </tr>\n",
       "    <tr>\n",
       "      <th>2</th>\n",
       "      <td>3</td>\n",
       "      <td>commissioning machinery assistant cma</td>\n",
       "      <td>u ia wever</td>\n",
       "      <td></td>\n",
       "      <td></td>\n",
       "      <td>valor service provides workforce solution meet...</td>\n",
       "      <td>client located houston actively seeking experi...</td>\n",
       "      <td>implement precommissioning commissioning proce...</td>\n",
       "      <td></td>\n",
       "      <td>0</td>\n",
       "      <td>1</td>\n",
       "      <td>0</td>\n",
       "      <td></td>\n",
       "      <td></td>\n",
       "      <td></td>\n",
       "      <td></td>\n",
       "      <td></td>\n",
       "      <td>0</td>\n",
       "    </tr>\n",
       "    <tr>\n",
       "      <th>3</th>\n",
       "      <td>4</td>\n",
       "      <td>account executive washington dc</td>\n",
       "      <td>u dc washington</td>\n",
       "      <td>sale</td>\n",
       "      <td></td>\n",
       "      <td>passion improving quality life geography heart...</td>\n",
       "      <td>company esri environmental system research ins...</td>\n",
       "      <td>education bachelor master gi business administ...</td>\n",
       "      <td>culture anything corporatewe collaborative cre...</td>\n",
       "      <td>0</td>\n",
       "      <td>1</td>\n",
       "      <td>0</td>\n",
       "      <td>fulltime</td>\n",
       "      <td>midsenior level</td>\n",
       "      <td>bachelor degree</td>\n",
       "      <td>computer software</td>\n",
       "      <td>sale</td>\n",
       "      <td>0</td>\n",
       "    </tr>\n",
       "    <tr>\n",
       "      <th>4</th>\n",
       "      <td>5</td>\n",
       "      <td>bill review manager</td>\n",
       "      <td>u fl fort worth</td>\n",
       "      <td></td>\n",
       "      <td></td>\n",
       "      <td>spotsource solution llc global human capital m...</td>\n",
       "      <td>job title itemization review managerlocation f...</td>\n",
       "      <td>qualificationsrn license state texasdiploma ba...</td>\n",
       "      <td>full benefit offered</td>\n",
       "      <td>0</td>\n",
       "      <td>1</td>\n",
       "      <td>1</td>\n",
       "      <td>fulltime</td>\n",
       "      <td>midsenior level</td>\n",
       "      <td>bachelor degree</td>\n",
       "      <td>hospital health care</td>\n",
       "      <td>health care provider</td>\n",
       "      <td>0</td>\n",
       "    </tr>\n",
       "  </tbody>\n",
       "</table>\n",
       "</div>"
      ],
      "text/plain": [
       "   job_id                                    title         location  \\\n",
       "0       1                         marketing intern    u ny new york   \n",
       "1       2  customer service cloud video production      nz auckland   \n",
       "2       3    commissioning machinery assistant cma       u ia wever   \n",
       "3       4          account executive washington dc  u dc washington   \n",
       "4       5                      bill review manager  u fl fort worth   \n",
       "\n",
       "  department salary_range                                    company_profile  \\\n",
       "0  marketing               food weve created groundbreaking awardwinning ...   \n",
       "1    success               second world cloud video production service se...   \n",
       "2                          valor service provides workforce solution meet...   \n",
       "3       sale               passion improving quality life geography heart...   \n",
       "4                          spotsource solution llc global human capital m...   \n",
       "\n",
       "                                         description  \\\n",
       "0  food fastgrowing james beard awardwinning onli...   \n",
       "1  organised focused vibrant awesomedo passion cu...   \n",
       "2  client located houston actively seeking experi...   \n",
       "3  company esri environmental system research ins...   \n",
       "4  job title itemization review managerlocation f...   \n",
       "\n",
       "                                        requirements  \\\n",
       "0  experience content management system major plu...   \n",
       "1  expect youyour key responsibility communicate ...   \n",
       "2  implement precommissioning commissioning proce...   \n",
       "3  education bachelor master gi business administ...   \n",
       "4  qualificationsrn license state texasdiploma ba...   \n",
       "\n",
       "                                            benefits  telecommuting  \\\n",
       "0                                                                 0   \n",
       "1  get usthrough part second team gainexperience ...              0   \n",
       "2                                                                 0   \n",
       "3  culture anything corporatewe collaborative cre...              0   \n",
       "4                               full benefit offered              0   \n",
       "\n",
       "   has_company_logo  has_questions employment_type required_experience  \\\n",
       "0                 1              0                          internship   \n",
       "1                 1              0        fulltime          applicable   \n",
       "2                 1              0                                       \n",
       "3                 1              0        fulltime     midsenior level   \n",
       "4                 1              1        fulltime     midsenior level   \n",
       "\n",
       "  required_education               industry              function  fraudulent  \n",
       "0                                                       marketing           0  \n",
       "1                     marketing advertising      customer service           0  \n",
       "2                                                                           0  \n",
       "3    bachelor degree      computer software                  sale           0  \n",
       "4    bachelor degree   hospital health care  health care provider           0  "
      ]
     },
     "execution_count": 11,
     "metadata": {},
     "output_type": "execute_result"
    }
   ],
   "source": [
    "# Identify categorical columns \n",
    "categorical_cols = df.select_dtypes(include=['object']).columns\n",
    "\n",
    "# Create a new DataFrame to store the cleaned data\n",
    "ml_df = df.copy()  \n",
    "\n",
    "# Apply the cleaning function to each categorical column\n",
    "for col in categorical_cols:\n",
    "    ml_df[col] = ml_df[col].apply(clean_text)\n",
    "\n",
    "# Display the cleaned DataFrame\n",
    "ml_df.head()"
   ]
  },
  {
   "cell_type": "markdown",
   "metadata": {},
   "source": [
    "## Preprocessing Job Posting Data: Feature Separation and Text Transformation"
   ]
  },
  {
   "cell_type": "code",
   "execution_count": 12,
   "metadata": {
    "id": "ZNnvtj3bfrGO"
   },
   "outputs": [],
   "source": [
    "# Separate the features and target\n",
    "X = ml_df.drop(columns=['job_id','fraudulent', 'salary_range'])  # Dropping the salary column as decided\n",
    "y = ml_df['fraudulent']"
   ]
  },
  {
   "cell_type": "code",
   "execution_count": 13,
   "metadata": {
    "id": "aIhjGlCZnkMg",
    "outputId": "6dda9b80-b429-4f20-d0ff-6494daeb5b61"
   },
   "outputs": [
    {
     "name": "stdout",
     "output_type": "stream",
     "text": [
      "Shape of preprocessed features: (17880, 5402)\n"
     ]
    }
   ],
   "source": [
    "# Identify columns by data type\n",
    "boolean_columns = ['telecommuting', 'has_company_logo', 'has_questions']\n",
    "text_columns = X.select_dtypes(include=['object']).columns\n",
    "\n",
    "# Impute missing values in the text columns before transformation\n",
    "X[text_columns] = X[text_columns].fillna('')\n",
    "\n",
    "# Process each text column individually and accumulate into a list\n",
    "text_transformed_parts = []\n",
    "for col in text_columns:\n",
    "    text_pipeline = TfidfVectorizer(\n",
    "        max_features=1000,  # Limit features for memory optimization\n",
    "        stop_words='english',\n",
    "        max_df=0.5,\n",
    "        min_df=10,\n",
    "        ngram_range=(1, 1)  # Unigrams only\n",
    "    )\n",
    "\n",
    "    # Fit-transform each text column independently\n",
    "    transformed_col = text_pipeline.fit_transform(X[col])\n",
    "    text_transformed_parts.append(transformed_col)\n",
    "\n",
    "# Convert the transformed parts to a dense array and concatenate with boolean columns\n",
    "X_text_preprocessed = np.hstack([part.toarray() for part in text_transformed_parts])\n",
    "X_preprocessed = np.concatenate([X[boolean_columns].values, X_text_preprocessed], axis=1)\n",
    "\n",
    "print(\"Shape of preprocessed features:\", X_preprocessed.shape)"
   ]
  },
  {
   "cell_type": "code",
   "execution_count": 32,
   "metadata": {},
   "outputs": [
    {
     "data": {
      "text/plain": [
       "array([0., 0., 1., ..., 0., 0., 0.])"
      ]
     },
     "execution_count": 32,
     "metadata": {},
     "output_type": "execute_result"
    }
   ],
   "source": [
    "# divya\n",
    "X_preprocessed[5166]"
   ]
  },
  {
   "cell_type": "code",
   "execution_count": 31,
   "metadata": {},
   "outputs": [
    {
     "data": {
      "text/plain": [
       "np.int64(1)"
      ]
     },
     "execution_count": 31,
     "metadata": {},
     "output_type": "execute_result"
    }
   ],
   "source": [
    "y[5166]"
   ]
  },
  {
   "cell_type": "markdown",
   "metadata": {
    "id": "FozTBOYoDx4F"
   },
   "source": [
    "## Checking for Class Imbalance"
   ]
  },
  {
   "cell_type": "code",
   "execution_count": 14,
   "metadata": {
    "id": "Xwu-k5WpDx4F"
   },
   "outputs": [
    {
     "name": "stderr",
     "output_type": "stream",
     "text": [
      "C:\\Users\\knssn\\AppData\\Local\\Temp\\ipykernel_17196\\2713891141.py:6: FutureWarning: \n",
      "\n",
      "Passing `palette` without assigning `hue` is deprecated and will be removed in v0.14.0. Assign the `x` variable to `hue` and set `legend=False` for the same effect.\n",
      "\n",
      "  sns.barplot(x=fraudulent_percentage.index, y=fraudulent_percentage.values, palette='viridis')\n"
     ]
    },
    {
     "data": {
      "image/png": "[encoded data removed]",
      "text/plain": [
       "<Figure size 600x400 with 1 Axes>"
      ]
     },
     "metadata": {},
     "output_type": "display_data"
    }
   ],
   "source": [
    "# Calculate percentage of real vs fraudulent job postings\n",
    "fraudulent_percentage = df['fraudulent'].value_counts(normalize=True) * 100\n",
    "\n",
    "# Plot the percentage of real vs fraudulent job postings\n",
    "plt.figure(figsize=(6, 4))\n",
    "sns.barplot(x=fraudulent_percentage.index, y=fraudulent_percentage.values, palette='viridis')\n",
    "plt.title('Percentage Distribution of Real vs Fraudulent Job Postings')\n",
    "plt.xlabel('Fraudulent (0 = Real, 1 = Fake)')\n",
    "plt.ylabel('Percentage (%)')\n",
    "plt.show()\n"
   ]
  },
  {
   "cell_type": "markdown",
   "metadata": {
    "id": "l_Ce9vzPDx4F"
   },
   "source": [
    "The dataset is highly imbalanced, with 97.8% non-fraudulent (0) and only 2.2% fraudulent (1) instances. To address this imbalance, we can use various sampling techniques:\n",
    "\n",
    "1. Oversampling\n",
    "    * Random Oversampling: Duplicates fraudulent samples until the classes are balanced.\n",
    "    * SMOTE (Synthetic Minority Over-sampling Technique): Generates synthetic fraudulent samples by interpolating between existing samples. This method is particularly effective as it preserves the minority class characteristics without simple duplication.\n",
    "2. Undersampling\n",
    "    * Random Undersampling: Reduces the number of non-fraudulent samples randomly until the classes are balanced.\n",
    "    * Cluster Centroids: Uses clustering to identify representative points from the majority class and reduces its size, maintaining diversity.\n",
    "3. Hybrid Methods\n",
    "    * SMOTE + Tomek Links: Combines SMOTE with Tomek Links, which removes overlapping samples, enhancing class boundaries and reducing noise.\n",
    "    * SMOTE + Edited Nearest Neighbors (ENN): First applies SMOTE, then removes ambiguous majority class samples using ENN.\n",
    "\n",
    "* Recommended Approach: SMOTE + Tomek Links\n",
    "    * SMOTE is highly effective for generating synthetic minority class samples. Pairing it with Tomek Links further cleans up class boundaries and reduces noise, leading to better model training and more accurate predictions.\n",
    "\n",
    "* Imbalanced-learn (imblearn) Library\n",
    "    * Oversampling: Includes methods like SMOTE, ADASYN, and RandomOverSampler.\n",
    "    * Undersampling: Includes techniques like RandomUnderSampler, Tomek Links, and ENN.\n",
    "    * Hybrid Techniques: SMOTE + Tomek Links or SMOTE + ENN combine oversampling and undersampling for balanced, clean datasets.\n",
    "\n",
    "For this problem, SMOTE + Tomek Links is the top choice, offering an effective balance of synthetic sample generation and class boundary cleaning for better model performance."
   ]
  },
  {
   "cell_type": "markdown",
   "metadata": {},
   "source": [
    "## Resampling Job Posting Data to address imbalance"
   ]
  },
  {
   "cell_type": "code",
   "execution_count": 15,
   "metadata": {
    "id": "zCLRPDTPs6pE"
   },
   "outputs": [],
   "source": [
    "# Apply SMOTE for oversampling\n",
    "smote = SMOTE(sampling_strategy='minority', random_state=42)\n",
    "X_smote, y_smote = smote.fit_resample(X_preprocessed, y)\n",
    "\n",
    "# Apply Tomek Links for undersampling\n",
    "tomek = TomekLinks(sampling_strategy='majority')\n",
    "X_resampled, y_resampled = tomek.fit_resample(X_smote, y_smote)"
   ]
  },
  {
   "cell_type": "code",
   "execution_count": 16,
   "metadata": {
    "id": "pNBC8ZHaDx4F",
    "outputId": "488f6088-ea42-4370-b189-7f4bbce42f28"
   },
   "outputs": [
    {
     "name": "stderr",
     "output_type": "stream",
     "text": [
      "C:\\Users\\knssn\\AppData\\Local\\Temp\\ipykernel_17196\\2843404409.py:6: FutureWarning: \n",
      "\n",
      "Passing `palette` without assigning `hue` is deprecated and will be removed in v0.14.0. Assign the `x` variable to `hue` and set `legend=False` for the same effect.\n",
      "\n",
      "  sns.barplot(x=y_final_distribution.index, y=y_final_distribution.values, palette='viridis')\n"
     ]
    },
    {
     "data": {
      "image/png": "[encoded data removed]",
      "text/plain": [
       "<Figure size 600x400 with 1 Axes>"
      ]
     },
     "metadata": {},
     "output_type": "display_data"
    }
   ],
   "source": [
    "# Checking the class distribution of the final dataset (after SMOTE and Tomek Links)\n",
    "y_final_distribution = pd.Series(y_resampled).value_counts(normalize=True) * 100\n",
    "\n",
    "# Plotting the distribution of Real vs Fraudulent job postings after resampling\n",
    "plt.figure(figsize=(6, 4))\n",
    "sns.barplot(x=y_final_distribution.index, y=y_final_distribution.values, palette='viridis')\n",
    "plt.title(\"Distribution of Real vs Fraudulent Job Postings (After Resampling)\")\n",
    "plt.xlabel(\"Fraudulent (0 = Real, 1 = Fake)\")\n",
    "plt.ylabel(\"Percentage (%)\")\n",
    "plt.xticks([0, 1], labels=['Real', 'Fraudulent'])\n",
    "plt.show()"
   ]
  },
  {
   "cell_type": "markdown",
   "metadata": {},
   "source": [
    "## Data Splitting: Training, Validation, and Test Sets"
   ]
  },
  {
   "cell_type": "code",
   "execution_count": 18,
   "metadata": {},
   "outputs": [
    {
     "data": {
      "text/plain": [
       "(34028, 5402)"
      ]
     },
     "execution_count": 18,
     "metadata": {},
     "output_type": "execute_result"
    }
   ],
   "source": [
    "X_resampled.shape"
   ]
  },
  {
   "cell_type": "code",
   "execution_count": 20,
   "metadata": {
    "id": "j_8rX_FeDx4F",
    "outputId": "23fe24b1-02f6-4453-9c62-1f2f142c7c80"
   },
   "outputs": [
    {
     "name": "stdout",
     "output_type": "stream",
     "text": [
      "Training set shape: (19055, 5402)\n",
      "Validation set shape: (8167, 5402)\n",
      "Testing set shape: (6806, 5402)\n",
      "Training labels shape: (19055,)\n",
      "Validation labels shape: (8167,)\n",
      "Testing labels shape: (6806,)\n"
     ]
    }
   ],
   "source": [
    "# Initial split into training and test sets (80% train, 20% test)\n",
    "X_train, X_test, y_train, y_test = train_test_split(X_resampled, y_resampled, test_size=0.2, random_state=42, stratify=y_resampled)\n",
    "\n",
    "# Further split the training set into training and validation sets \n",
    "X_train, X_val, y_train, y_val = train_test_split(X_train, y_train, test_size=0.3, random_state=42, stratify=y_train)\n",
    "\n",
    "# Print shapes to verify the splits\n",
    "print(\"Training set shape:\", X_train.shape)\n",
    "\n",
    "print(\"Validation set shape:\", X_val.shape)\n",
    "print(\"Testing set shape:\", X_test.shape)\n",
    "print(\"Training labels shape:\", y_train.shape)\n",
    "print(\"Validation labels shape:\", y_val.shape)\n",
    "print(\"Testing labels shape:\", y_test.shape)\n"
   ]
  },
  {
   "cell_type": "code",
   "execution_count": 23,
   "metadata": {},
   "outputs": [
    {
     "data": {
      "text/plain": [
       "array([1., 1., 0., ..., 0., 0., 0.])"
      ]
     },
     "execution_count": 23,
     "metadata": {},
     "output_type": "execute_result"
    }
   ],
   "source": [
    "X_test[0]"
   ]
  },
  {
   "cell_type": "code",
   "execution_count": null,
   "metadata": {},
   "outputs": [],
   "source": []
  },
  {
   "cell_type": "markdown",
   "metadata": {},
   "source": [
    "## Model Training and Evaluation with ROC, Precision-Recall, and Learning Curves"
   ]
  },
  {
   "cell_type": "code",
   "execution_count": 24,
   "metadata": {},
   "outputs": [
    {
     "name": "stdout",
     "output_type": "stream",
     "text": [
      "================================================================================\n",
      "Training Logistic Regression...\n",
      "Evaluating Model: LogisticRegression\n",
      "Classification Report:\n",
      "               precision    recall  f1-score   support\n",
      "\n",
      "           0       1.00      0.98      0.99      4084\n",
      "           1       0.98      1.00      0.99      4083\n",
      "\n",
      "    accuracy                           0.99      8167\n",
      "   macro avg       0.99      0.99      0.99      8167\n",
      "weighted avg       0.99      0.99      0.99      8167\n",
      "\n",
      "================================================================================\n",
      "Training Random Forest...\n",
      "Evaluating Model: RandomForestClassifier\n",
      "Classification Report:\n",
      "               precision    recall  f1-score   support\n",
      "\n",
      "           0       1.00      0.96      0.98      4084\n",
      "           1       0.96      1.00      0.98      4083\n",
      "\n",
      "    accuracy                           0.98      8167\n",
      "   macro avg       0.98      0.98      0.98      8167\n",
      "weighted avg       0.98      0.98      0.98      8167\n",
      "\n",
      "================================================================================\n",
      "Training k-NN...\n",
      "Evaluating Model: KNeighborsClassifier\n",
      "Classification Report:\n",
      "               precision    recall  f1-score   support\n",
      "\n",
      "           0       1.00      0.71      0.83      4084\n",
      "           1       0.78      1.00      0.87      4083\n",
      "\n",
      "    accuracy                           0.86      8167\n",
      "   macro avg       0.89      0.86      0.85      8167\n",
      "weighted avg       0.89      0.86      0.85      8167\n",
      "\n",
      "================================================================================\n",
      "Training MLP...\n",
      "Evaluating Model: MLPClassifier\n",
      "Classification Report:\n",
      "               precision    recall  f1-score   support\n",
      "\n",
      "           0       1.00      0.99      0.99      4084\n",
      "           1       0.99      1.00      0.99      4083\n",
      "\n",
      "    accuracy                           0.99      8167\n",
      "   macro avg       0.99      0.99      0.99      8167\n",
      "weighted avg       0.99      0.99      0.99      8167\n",
      "\n",
      "================================================================================\n",
      "Training Naive Bayes...\n",
      "Evaluating Model: GaussianNB\n",
      "Classification Report:\n",
      "               precision    recall  f1-score   support\n",
      "\n",
      "           0       1.00      0.96      0.98      4084\n",
      "           1       0.97      1.00      0.98      4083\n",
      "\n",
      "    accuracy                           0.98      8167\n",
      "   macro avg       0.98      0.98      0.98      8167\n",
      "weighted avg       0.98      0.98      0.98      8167\n",
      "\n"
     ]
    }
   ],
   "source": [
    "# # Function to plot ROC Curve\n",
    "# def plot_roc_curve(model, y_val, y_pred_prob):\n",
    "#     fpr, tpr, _ = roc_curve(y_val, y_pred_prob)\n",
    "#     auc_score = roc_auc_score(y_val, y_pred_prob)\n",
    "#     plt.figure(figsize=(8, 6))\n",
    "#     plt.plot(fpr, tpr, label=f'{model.__class__.__name__} (AUC = {auc_score:.2f})')\n",
    "#     plt.plot([0, 1], [0, 1], 'k--', label='Random Chance')\n",
    "#     plt.xlabel('False Positive Rate')\n",
    "#     plt.ylabel('True Positive Rate')\n",
    "#     plt.title('ROC Curve')\n",
    "#     plt.legend()\n",
    "#     plt.show()\n",
    "\n",
    "# # Function to plot Precision-Recall Curve\n",
    "# def plot_precision_recall_curve(model, y_val, y_pred_prob):\n",
    "#     precision, recall, _ = precision_recall_curve(y_val, y_pred_prob)\n",
    "#     plt.figure(figsize=(8, 6))\n",
    "#     plt.plot(recall, precision, label=f'{model.__class__.__name__}')\n",
    "#     plt.xlabel('Recall')\n",
    "#     plt.ylabel('Precision')\n",
    "#     plt.title('Precision-Recall Curve')\n",
    "#     plt.legend()\n",
    "#     plt.show()\n",
    "\n",
    "# # Function to plot Learning Curve\n",
    "# def plot_learning_curve(model, X_train, y_train):\n",
    "#     train_sizes, train_scores, val_scores = learning_curve(\n",
    "#         model, X_train, y_train, cv=5, scoring='accuracy', train_sizes=np.linspace(0.1, 1.0, 10)\n",
    "#     )\n",
    "#     train_mean = np.mean(train_scores, axis=1)\n",
    "#     train_std = np.std(train_scores, axis=1)\n",
    "#     val_mean = np.mean(val_scores, axis=1)\n",
    "#     val_std = np.std(val_scores, axis=1)\n",
    "\n",
    "#     plt.figure(figsize=(10, 6))\n",
    "#     plt.plot(train_sizes, train_mean, 'o-', color='blue', label='Training Accuracy')\n",
    "#     plt.fill_between(train_sizes, train_mean - train_std, train_mean + train_std, alpha=0.2, color='blue')\n",
    "#     plt.plot(train_sizes, val_mean, 'o-', color='orange', label='Validation Accuracy')\n",
    "#     plt.fill_between(train_sizes, val_mean - val_std, val_mean + val_std, alpha=0.2, color='orange')\n",
    "#     plt.xlabel('Training Size')\n",
    "#     plt.ylabel('Accuracy')\n",
    "#     plt.title(f'Learning Curve: {model.__class__.__name__}')\n",
    "#     plt.legend(loc='best')\n",
    "#     plt.show()\n",
    "\n",
    "# Function to evaluate models\n",
    "def evaluate_model(model, X_train, X_val, y_train, y_val):\n",
    "    print(f\"Evaluating Model: {model.__class__.__name__}\")\n",
    "    y_pred = model.predict(X_val)\n",
    "    y_pred_prob = model.predict_proba(X_val)[:, 1] if hasattr(model, \"predict_proba\") else None\n",
    "\n",
    "    # Print classification report\n",
    "    print(\"Classification Report:\\n\", classification_report(y_val, y_pred))\n",
    "\n",
    "    # # ROC Curve\n",
    "    # if y_pred_prob is not None:\n",
    "    #     plot_roc_curve(model, y_val, y_pred_prob)\n",
    "\n",
    "    # # Precision-Recall Curve\n",
    "    # if y_pred_prob is not None:\n",
    "    #     plot_precision_recall_curve(model, y_val, y_pred_prob)\n",
    "\n",
    "    # # Learning Curve\n",
    "    # plot_learning_curve(model, X_train, y_train)\n",
    "\n",
    "models = {\n",
    "    \"Logistic Regression\": LogisticRegression(C=1.0, penalty='l2', solver='liblinear', max_iter=1000),\n",
    "    \"Random Forest\": RandomForestClassifier(\n",
    "        n_estimators=100, max_depth=20, min_samples_split=5, min_samples_leaf=2, random_state=42\n",
    "    ),\n",
    "    \"k-NN\": KNeighborsClassifier(n_neighbors=5, weights='distance', metric='euclidean'),\n",
    "    \"MLP\": MLPClassifier(\n",
    "        hidden_layer_sizes=(100,), activation='relu', solver='adam', alpha=0.001, max_iter=1000, random_state=42\n",
    "    ),\n",
    "    \"Naive Bayes\": GaussianNB(var_smoothing=1e-9),\n",
    "}\n",
    "\n",
    "# Train, Evaluate, and Visualize Results\n",
    "for name, model in models.items():\n",
    "    print(\"=\" * 80)\n",
    "    print(f\"Training {name}...\")\n",
    "    model.fit(X_train, y_train)\n",
    "    evaluate_model(model, X_train, X_val, y_train, y_val)\n"
   ]
  },
  {
   "cell_type": "markdown",
   "metadata": {},
   "source": [
    "## Testing and Evaluating Selected Models on Test Data with ROC and Precision-Recall Curves"
   ]
  },
  {
   "cell_type": "code",
   "execution_count": null,
   "metadata": {},
   "outputs": [
    {
     "data": {
      "text/plain": [
       "(6806, 5444)"
      ]
     },
     "execution_count": 47,
     "metadata": {},
     "output_type": "execute_result"
    }
   ],
   "source": [
    "X_test.shape"
   ]
  },
  {
   "cell_type": "code",
   "execution_count": 33,
   "metadata": {},
   "outputs": [
    {
     "data": {
      "text/plain": [
       "array([1])"
      ]
     },
     "execution_count": 33,
     "metadata": {},
     "output_type": "execute_result"
    }
   ],
   "source": [
    "models[\"Logistic Regression\"].predict(X_preprocessed[5166].reshape(1, -1))"
   ]
  },
  {
   "cell_type": "code",
   "execution_count": null,
   "metadata": {},
   "outputs": [
    {
     "name": "stdout",
     "output_type": "stream",
     "text": [
      "\n",
      "================================================================================\n",
      "Testing Selected Models on Test Set\n",
      "================================================================================\n",
      "Testing Model: Logistic Regression...\n",
      "Classification Report for Logistic Regression on Test Data:\n",
      "\n",
      "              precision    recall  f1-score   support\n",
      "\n",
      "           0       1.00      0.99      0.99      3403\n",
      "           1       0.99      1.00      0.99      3403\n",
      "\n",
      "    accuracy                           0.99      6806\n",
      "   macro avg       0.99      0.99      0.99      6806\n",
      "weighted avg       0.99      0.99      0.99      6806\n",
      "\n",
      "================================================================================\n",
      "Testing Model: Random Forest...\n",
      "Classification Report for Random Forest on Test Data:\n",
      "\n",
      "              precision    recall  f1-score   support\n",
      "\n",
      "           0       1.00      0.96      0.98      3403\n",
      "           1       0.96      1.00      0.98      3403\n",
      "\n",
      "    accuracy                           0.98      6806\n",
      "   macro avg       0.98      0.98      0.98      6806\n",
      "weighted avg       0.98      0.98      0.98      6806\n",
      "\n",
      "================================================================================\n",
      "Testing Model: Naive Bayes...\n",
      "Classification Report for Naive Bayes on Test Data:\n",
      "\n",
      "              precision    recall  f1-score   support\n",
      "\n",
      "           0       1.00      0.97      0.98      3403\n",
      "           1       0.97      1.00      0.98      3403\n",
      "\n",
      "    accuracy                           0.98      6806\n",
      "   macro avg       0.98      0.98      0.98      6806\n",
      "weighted avg       0.98      0.98      0.98      6806\n",
      "\n"
     ]
    }
   ],
   "source": [
    "# Define models to test\n",
    "selected_models = {\n",
    "    \"Logistic Regression\": models[\"Logistic Regression\"],\n",
    "    \"Random Forest\": models[\"Random Forest\"],\n",
    "    \"Naive Bayes\": models[\"Naive Bayes\"],\n",
    "}\n",
    "\n",
    "# Function to evaluate models on test data\n",
    "def test_selected_models(models_to_test, X_test, y_test):\n",
    "    for name, model in models_to_test.items():\n",
    "        print(\"=\" * 80)\n",
    "        print(f\"Testing Model: {name}...\")\n",
    "        y_test_pred = model.predict(X_test)\n",
    "        y_test_pred_prob = (\n",
    "            model.predict_proba(X_test)[:, 1] if hasattr(model, \"predict_proba\") else None\n",
    "        )\n",
    "\n",
    "        # Print classification report\n",
    "        print(f\"Classification Report for {name} on Test Data:\\n\")\n",
    "        print(classification_report(y_test, y_test_pred))\n",
    "\n",
    "        # # Plot ROC Curve\n",
    "        # if y_test_pred_prob is not None:\n",
    "        #     plot_roc_curve(model, y_test, y_test_pred_prob)\n",
    "\n",
    "        # # Plot Precision-Recall Curve\n",
    "        # if y_test_pred_prob is not None:\n",
    "        #     plot_precision_recall_curve(model, y_test, y_test_pred_prob)\n",
    "\n",
    "# Test the selected models\n",
    "print(\"\\n\" + \"=\" * 80)\n",
    "print(\"Testing Selected Models on Test Set\")\n",
    "test_selected_models(selected_models, X_test, y_test)\n"
   ]
  },
  {
   "cell_type": "code",
   "execution_count": null,
   "metadata": {},
   "outputs": [
    {
     "data": {
      "text/plain": [
       "['logistic_regression_model.pkl']"
      ]
     },
     "execution_count": 37,
     "metadata": {},
     "output_type": "execute_result"
    }
   ],
   "source": [
    "import joblib\n",
    "\n",
    "# Save the logistic regression model\n",
    "#joblib.dump(models[\"Logistic Regression\"], \"logistic_regression_model.pkl\")\n"
   ]
  },
  {
   "cell_type": "code",
   "execution_count": 36,
   "metadata": {},
   "outputs": [
    {
     "data": {
      "text/plain": [
       "(17880, 5402)"
      ]
     },
     "execution_count": 36,
     "metadata": {},
     "output_type": "execute_result"
    }
   ],
   "source": [
    "X_preprocessed.shape"
   ]
  },
  {
   "cell_type": "code",
   "execution_count": 37,
   "metadata": {},
   "outputs": [
    {
     "data": {
      "text/plain": [
       "(6806, 5402)"
      ]
     },
     "execution_count": 37,
     "metadata": {},
     "output_type": "execute_result"
    }
   ],
   "source": [
    "X_test.shape"
   ]
  },
  {
   "cell_type": "code",
   "execution_count": 41,
   "metadata": {},
   "outputs": [
    {
     "data": {
      "text/plain": [
       "['Random Forest_model.pkl']"
      ]
     },
     "execution_count": 41,
     "metadata": {},
     "output_type": "execute_result"
    }
   ],
   "source": [
    "# Save the logistic regression model\n",
    "joblib.dump(models[\"Logistic Regression\"], \"logistic_regression_model.pkl\")\n",
    "joblib.dump(models[\"Naive Bayes\"], \"Naive_Bayes_model.pkl\")\n",
    "joblib.dump(models[\"Random Forest\"], \"Random Forest_model.pkl\")"
   ]
  },
  {
   "cell_type": "code",
   "execution_count": 42,
   "metadata": {},
   "outputs": [],
   "source": [
    "import joblib\n",
    "\n",
    "# Load your trained model\n",
    "model_lr = joblib.load(r'logistic_regression_model.pkl')\n",
    "model_nb = joblib.load(r'Naive_Bayes_model.pkl')\n",
    "model_rf = joblib.load(r'Random Forest_model.pkl')\n",
    "\n",
    "\n",
    "# Perform prediction\n",
    "prediction_lr = model_lr.predict(X_preprocessed[5166].reshape(1, -1))\n",
    "prediction_nb = model_nb.predict(X_preprocessed[5166].reshape(1, -1))\n",
    "prediction_rf = model_rf.predict(X_preprocessed[5166].reshape(1, -1))\n"
   ]
  },
  {
   "cell_type": "code",
   "execution_count": 44,
   "metadata": {},
   "outputs": [
    {
     "data": {
      "text/plain": [
       "(array([1]), array([1]), array([1]))"
      ]
     },
     "execution_count": 44,
     "metadata": {},
     "output_type": "execute_result"
    }
   ],
   "source": [
    "prediction_lr, prediction_nb, prediction_rf"
   ]
  },
  {
   "cell_type": "code",
   "execution_count": 66,
   "metadata": {},
   "outputs": [
    {
     "data": {
      "text/plain": [
       "6806"
      ]
     },
     "execution_count": 66,
     "metadata": {},
     "output_type": "execute_result"
    }
   ],
   "source": [
    "len(y_test)"
   ]
  },
  {
   "cell_type": "code",
   "execution_count": 92,
   "metadata": {},
   "outputs": [
    {
     "name": "stdout",
     "output_type": "stream",
     "text": [
      "X_test =  [[1. 1. 0. ... 0. 0. 0.]]           , y_test = 1         , predicted: 1\n"
     ]
    }
   ],
   "source": [
    "print('X_test = ', X_test[0].reshape(1, -1), \"          , y_test = \" + str(y_test.iloc[0]), '        , predicted:', model_lr.predict(X_test[0].reshape(1, -1))[0])"
   ]
  },
  {
   "cell_type": "code",
   "execution_count": 97,
   "metadata": {},
   "outputs": [
    {
     "data": {
      "text/plain": [
       "(array([[0., 1., 0., ..., 0., 0., 0.],\n",
       "        [0., 1., 0., ..., 0., 0., 0.],\n",
       "        [0., 1., 0., ..., 0., 0., 0.],\n",
       "        ...,\n",
       "        [0., 0., 0., ..., 0., 0., 0.],\n",
       "        [0., 0., 1., ..., 0., 0., 0.],\n",
       "        [0., 1., 1., ..., 0., 0., 0.]]),\n",
       " numpy.float64)"
      ]
     },
     "execution_count": 97,
     "metadata": {},
     "output_type": "execute_result"
    }
   ],
   "source": [
    "X_preprocessed, type(X_preprocessed[0][0])"
   ]
  },
  {
   "cell_type": "code",
   "execution_count": 98,
   "metadata": {},
   "outputs": [],
   "source": [
    "import numpy as np\n",
    "\n",
    "# Save the array to a binary .npy file\n",
    "np.save('X_preprocessed.npy', X_preprocessed)\n",
    "\n",
    "# To load the array later\n",
    "X_loaded = np.load('X_preprocessed.npy')\n"
   ]
  },
  {
   "cell_type": "code",
   "execution_count": 106,
   "metadata": {},
   "outputs": [
    {
     "name": "stdout",
     "output_type": "stream",
     "text": [
      "1\n"
     ]
    }
   ],
   "source": [
    "print(model_lr.predict(X_loaded[5166].reshape(1, -1))[0])"
   ]
  },
  {
   "cell_type": "code",
   "execution_count": null,
   "metadata": {},
   "outputs": [],
   "source": []
  }
 ],
 "metadata": {
  "colab": {
   "provenance": []
  },
  "kernelspec": {
   "display_name": "naren",
   "language": "python",
   "name": "python3"
  },
  "language_info": {
   "codemirror_mode": {
    "name": "ipython",
    "version": 3
   },
   "file_extension": ".py",
   "mimetype": "text/x-python",
   "name": "python",
   "nbconvert_exporter": "python",
   "pygments_lexer": "ipython3",
   "version": "3.12.7"
  }
 },
 "nbformat": 4,
 "nbformat_minor": 4
}
